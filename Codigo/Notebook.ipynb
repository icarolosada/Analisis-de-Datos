{
 "cells": [
  {
   "cell_type": "markdown",
   "id": "d083f87f",
   "metadata": {},
   "source": [
    "### Importaremos las bibliotecas para trabajar con los datos y realizar el análisis"
   ]
  },
  {
   "cell_type": "code",
   "execution_count": 20,
   "id": "6a410b2e",
   "metadata": {},
   "outputs": [],
   "source": [
    "import pandas as pd\n",
    "import matplotlib.pyplot as plt"
   ]
  },
  {
   "cell_type": "markdown",
   "id": "fca2c4cd",
   "metadata": {},
   "source": [
    "SE cargan los archivos de Excel y CSV en DataFrames de pandas"
   ]
  },
  {
   "cell_type": "code",
   "execution_count": 71,
   "id": "544cafaf",
   "metadata": {},
   "outputs": [],
   "source": [
    "capacidad_embalses_df = pd.read_excel('C:\\\\Users\\\\Icaro.DESKTOP-8VQB1F3\\\\Desktop\\\\Data Analyst\\\\Histórico del Clima\\\\Github\\\\Datos_procesados\\\\Capacida_embalses.xlsx')\n",
    "media_lluvia_anos_df = pd.read_excel('C:\\\\Users\\\\Icaro.DESKTOP-8VQB1F3\\\\Desktop\\\\Data Analyst\\\\Histórico del Clima\\\\Github\\\\Datos_procesados\\\\media_lluvia_anos.xlsx')\n",
    "media_temperaturas_anos_df = pd.read_excel('C:\\\\Users\\\\Icaro.DESKTOP-8VQB1F3\\\\Desktop\\\\Data Analyst\\\\Histórico del Clima\\\\Github\\\\Datos_procesados\\\\media_temperaturas_anos.xlsx')\n",
    "total_lluvia_20anos_df = pd.read_excel('C:\\\\Users\\\\Icaro.DESKTOP-8VQB1F3\\\\Desktop\\\\Data Analyst\\\\Histórico del Clima\\\\Github\\\\Datos_procesados\\\\total_lluvia_20anos.xlsx')\n"
   ]
  },
  {
   "cell_type": "markdown",
   "id": "9ccbdcb3",
   "metadata": {},
   "source": [
    "Se verifican que los datos esten cargados correctamente"
   ]
  },
  {
   "cell_type": "code",
   "execution_count": 21,
   "id": "220c83b7",
   "metadata": {
    "scrolled": true
   },
   "outputs": [
    {
     "data": {
      "text/html": [
       "<div>\n",
       "<style scoped>\n",
       "    .dataframe tbody tr th:only-of-type {\n",
       "        vertical-align: middle;\n",
       "    }\n",
       "\n",
       "    .dataframe tbody tr th {\n",
       "        vertical-align: top;\n",
       "    }\n",
       "\n",
       "    .dataframe thead th {\n",
       "        text-align: right;\n",
       "    }\n",
       "</style>\n",
       "<table border=\"1\" class=\"dataframe\">\n",
       "  <thead>\n",
       "    <tr style=\"text-align: right;\">\n",
       "      <th></th>\n",
       "      <th>Id_estacion</th>\n",
       "      <th>NOMBRE_ESTACION</th>\n",
       "      <th>decada</th>\n",
       "      <th>total_lluvia</th>\n",
       "    </tr>\n",
       "  </thead>\n",
       "  <tbody>\n",
       "    <tr>\n",
       "      <th>0</th>\n",
       "      <td>SP000004452</td>\n",
       "      <td>BADAJOZ/TALAVERA LA REAL</td>\n",
       "      <td>1940s</td>\n",
       "      <td>24348</td>\n",
       "    </tr>\n",
       "    <tr>\n",
       "      <th>1</th>\n",
       "      <td>SP000004452</td>\n",
       "      <td>BADAJOZ/TALAVERA LA REAL</td>\n",
       "      <td>1960s</td>\n",
       "      <td>106607</td>\n",
       "    </tr>\n",
       "    <tr>\n",
       "      <th>2</th>\n",
       "      <td>SP000004452</td>\n",
       "      <td>BADAJOZ/TALAVERA LA REAL</td>\n",
       "      <td>1980s</td>\n",
       "      <td>88094</td>\n",
       "    </tr>\n",
       "    <tr>\n",
       "      <th>3</th>\n",
       "      <td>SP000004452</td>\n",
       "      <td>BADAJOZ/TALAVERA LA REAL</td>\n",
       "      <td>2000s</td>\n",
       "      <td>85064</td>\n",
       "    </tr>\n",
       "    <tr>\n",
       "      <th>4</th>\n",
       "      <td>SP000004452</td>\n",
       "      <td>BADAJOZ/TALAVERA LA REAL</td>\n",
       "      <td>2020s</td>\n",
       "      <td>13748</td>\n",
       "    </tr>\n",
       "    <tr>\n",
       "      <th>...</th>\n",
       "      <td>...</td>\n",
       "      <td>...</td>\n",
       "      <td>...</td>\n",
       "      <td>...</td>\n",
       "    </tr>\n",
       "    <tr>\n",
       "      <th>698</th>\n",
       "      <td>SPW00014010</td>\n",
       "      <td>ZARAGOZA</td>\n",
       "      <td>2020s</td>\n",
       "      <td>9791</td>\n",
       "    </tr>\n",
       "    <tr>\n",
       "      <th>699</th>\n",
       "      <td>SPW00014011</td>\n",
       "      <td>TORREJON</td>\n",
       "      <td>1940s</td>\n",
       "      <td>6571</td>\n",
       "    </tr>\n",
       "    <tr>\n",
       "      <th>700</th>\n",
       "      <td>SPW00014011</td>\n",
       "      <td>TORREJON</td>\n",
       "      <td>1960s</td>\n",
       "      <td>50193</td>\n",
       "    </tr>\n",
       "    <tr>\n",
       "      <th>701</th>\n",
       "      <td>SPW00014011</td>\n",
       "      <td>TORREJON</td>\n",
       "      <td>1980s</td>\n",
       "      <td>11366</td>\n",
       "    </tr>\n",
       "    <tr>\n",
       "      <th>702</th>\n",
       "      <td>SPW00014011</td>\n",
       "      <td>TORREJON</td>\n",
       "      <td>2000s</td>\n",
       "      <td>0</td>\n",
       "    </tr>\n",
       "  </tbody>\n",
       "</table>\n",
       "<p>703 rows × 4 columns</p>\n",
       "</div>"
      ],
      "text/plain": [
       "     Id_estacion           NOMBRE_ESTACION decada  total_lluvia\n",
       "0    SP000004452  BADAJOZ/TALAVERA LA REAL  1940s         24348\n",
       "1    SP000004452  BADAJOZ/TALAVERA LA REAL  1960s        106607\n",
       "2    SP000004452  BADAJOZ/TALAVERA LA REAL  1980s         88094\n",
       "3    SP000004452  BADAJOZ/TALAVERA LA REAL  2000s         85064\n",
       "4    SP000004452  BADAJOZ/TALAVERA LA REAL  2020s         13748\n",
       "..           ...                       ...    ...           ...\n",
       "698  SPW00014010                  ZARAGOZA  2020s          9791\n",
       "699  SPW00014011                  TORREJON  1940s          6571\n",
       "700  SPW00014011                  TORREJON  1960s         50193\n",
       "701  SPW00014011                  TORREJON  1980s         11366\n",
       "702  SPW00014011                  TORREJON  2000s             0\n",
       "\n",
       "[703 rows x 4 columns]"
      ]
     },
     "execution_count": 21,
     "metadata": {},
     "output_type": "execute_result"
    }
   ],
   "source": [
    "total_lluvia_20anos_df"
   ]
  },
  {
   "cell_type": "markdown",
   "id": "fb6c56eb",
   "metadata": {},
   "source": [
    "Se empieza a graficar los datos"
   ]
  },
  {
   "cell_type": "code",
   "execution_count": 36,
   "id": "d1c30f46",
   "metadata": {},
   "outputs": [
    {
     "data": {
      "image/png": "[encoded data removed]",
      "text/plain": [
       "<Figure size 640x480 with 1 Axes>"
      ]
     },
     "metadata": {},
     "output_type": "display_data"
    }
   ],
   "source": [
    "plt.plot(total_lluvia_20anos_df['total_lluvia'])\n",
    "plt.xlabel('Etiqueta del eje x')\n",
    "plt.ylabel('Etiqueta del eje y')\n",
    "plt.title('Título del gráfico')\n",
    "plt.show()"
   ]
  },
  {
   "cell_type": "markdown",
   "id": "ee755263",
   "metadata": {},
   "source": [
    "Visualizamos las primera 5 filas"
   ]
  },
  {
   "cell_type": "code",
   "execution_count": 38,
   "id": "91c076f9",
   "metadata": {
    "scrolled": true
   },
   "outputs": [
    {
     "data": {
      "text/html": [
       "<div>\n",
       "<style scoped>\n",
       "    .dataframe tbody tr th:only-of-type {\n",
       "        vertical-align: middle;\n",
       "    }\n",
       "\n",
       "    .dataframe tbody tr th {\n",
       "        vertical-align: top;\n",
       "    }\n",
       "\n",
       "    .dataframe thead th {\n",
       "        text-align: right;\n",
       "    }\n",
       "</style>\n",
       "<table border=\"1\" class=\"dataframe\">\n",
       "  <thead>\n",
       "    <tr style=\"text-align: right;\">\n",
       "      <th></th>\n",
       "      <th>Id_estacion</th>\n",
       "      <th>NOMBRE_ESTACION</th>\n",
       "      <th>decada</th>\n",
       "      <th>total_lluvia</th>\n",
       "    </tr>\n",
       "  </thead>\n",
       "  <tbody>\n",
       "    <tr>\n",
       "      <th>0</th>\n",
       "      <td>SP000004452</td>\n",
       "      <td>BADAJOZ/TALAVERA LA REAL</td>\n",
       "      <td>1940s</td>\n",
       "      <td>24348</td>\n",
       "    </tr>\n",
       "    <tr>\n",
       "      <th>1</th>\n",
       "      <td>SP000004452</td>\n",
       "      <td>BADAJOZ/TALAVERA LA REAL</td>\n",
       "      <td>1960s</td>\n",
       "      <td>106607</td>\n",
       "    </tr>\n",
       "    <tr>\n",
       "      <th>2</th>\n",
       "      <td>SP000004452</td>\n",
       "      <td>BADAJOZ/TALAVERA LA REAL</td>\n",
       "      <td>1980s</td>\n",
       "      <td>88094</td>\n",
       "    </tr>\n",
       "    <tr>\n",
       "      <th>3</th>\n",
       "      <td>SP000004452</td>\n",
       "      <td>BADAJOZ/TALAVERA LA REAL</td>\n",
       "      <td>2000s</td>\n",
       "      <td>85064</td>\n",
       "    </tr>\n",
       "    <tr>\n",
       "      <th>4</th>\n",
       "      <td>SP000004452</td>\n",
       "      <td>BADAJOZ/TALAVERA LA REAL</td>\n",
       "      <td>2020s</td>\n",
       "      <td>13748</td>\n",
       "    </tr>\n",
       "  </tbody>\n",
       "</table>\n",
       "</div>"
      ],
      "text/plain": [
       "   Id_estacion           NOMBRE_ESTACION decada  total_lluvia\n",
       "0  SP000004452  BADAJOZ/TALAVERA LA REAL  1940s         24348\n",
       "1  SP000004452  BADAJOZ/TALAVERA LA REAL  1960s        106607\n",
       "2  SP000004452  BADAJOZ/TALAVERA LA REAL  1980s         88094\n",
       "3  SP000004452  BADAJOZ/TALAVERA LA REAL  2000s         85064\n",
       "4  SP000004452  BADAJOZ/TALAVERA LA REAL  2020s         13748"
      ]
     },
     "execution_count": 38,
     "metadata": {},
     "output_type": "execute_result"
    }
   ],
   "source": [
    "total_lluvia_20anos_df.head(5)"
   ]
  },
  {
   "cell_type": "markdown",
   "id": "cf428246",
   "metadata": {},
   "source": [
    "Visualizamos el tamaño del dataset"
   ]
  },
  {
   "cell_type": "code",
   "execution_count": 39,
   "id": "3a25baf2",
   "metadata": {},
   "outputs": [
    {
     "data": {
      "text/plain": [
       "(703, 4)"
      ]
     },
     "execution_count": 39,
     "metadata": {},
     "output_type": "execute_result"
    }
   ],
   "source": [
    "total_lluvia_20anos_df.shape"
   ]
  },
  {
   "cell_type": "markdown",
   "id": "0289cd1a",
   "metadata": {},
   "source": [
    "Chequeo de nulos"
   ]
  },
  {
   "cell_type": "code",
   "execution_count": 40,
   "id": "a7c22730",
   "metadata": {},
   "outputs": [
    {
     "data": {
      "text/plain": [
       "Id_estacion        0\n",
       "NOMBRE_ESTACION    0\n",
       "decada             0\n",
       "total_lluvia       0\n",
       "dtype: int64"
      ]
     },
     "execution_count": 40,
     "metadata": {},
     "output_type": "execute_result"
    }
   ],
   "source": [
    "total_lluvia_20anos_df.isnull().sum()"
   ]
  },
  {
   "cell_type": "markdown",
   "id": "3c730fdb",
   "metadata": {},
   "source": [
    "Visualizar el tipo de datos de la columnas"
   ]
  },
  {
   "cell_type": "code",
   "execution_count": 41,
   "id": "37884afe",
   "metadata": {},
   "outputs": [
    {
     "data": {
      "text/plain": [
       "Id_estacion        object\n",
       "NOMBRE_ESTACION    object\n",
       "decada             object\n",
       "total_lluvia        int64\n",
       "dtype: object"
      ]
     },
     "execution_count": 41,
     "metadata": {},
     "output_type": "execute_result"
    }
   ],
   "source": [
    "total_lluvia_20anos_df.dtypes\n"
   ]
  },
  {
   "cell_type": "markdown",
   "id": "5dcd44ab",
   "metadata": {},
   "source": [
    "verificando 0"
   ]
  },
  {
   "cell_type": "code",
   "execution_count": 66,
   "id": "b6dbd760",
   "metadata": {},
   "outputs": [
    {
     "name": "stdout",
     "output_type": "stream",
     "text": [
      "años            0\n",
      "media_lluvia    0\n",
      "dtype: int64\n"
     ]
    }
   ],
   "source": [
    "# Filtrar las filas que contienen valores 0\n",
    "media_lluvia_anos_df = media_lluvia_anos_df.loc[media_lluvia_anos_df['media_lluvia'] != 0]\n",
    "\n",
    "# Verificar nuevamente si hay valores 0\n",
    "valores_cero = (media_lluvia_anos_df == 0).sum()\n",
    "print(valores_cero)\n"
   ]
  },
  {
   "cell_type": "code",
   "execution_count": 50,
   "id": "89b58e45",
   "metadata": {},
   "outputs": [
    {
     "data": {
      "text/html": [
       "<div>\n",
       "<style scoped>\n",
       "    .dataframe tbody tr th:only-of-type {\n",
       "        vertical-align: middle;\n",
       "    }\n",
       "\n",
       "    .dataframe tbody tr th {\n",
       "        vertical-align: top;\n",
       "    }\n",
       "\n",
       "    .dataframe thead th {\n",
       "        text-align: right;\n",
       "    }\n",
       "</style>\n",
       "<table border=\"1\" class=\"dataframe\">\n",
       "  <thead>\n",
       "    <tr style=\"text-align: right;\">\n",
       "      <th></th>\n",
       "      <th>NOMBRE_ESTACION</th>\n",
       "      <th>decada</th>\n",
       "      <th>total_lluvia</th>\n",
       "    </tr>\n",
       "  </thead>\n",
       "  <tbody>\n",
       "    <tr>\n",
       "      <th>0</th>\n",
       "      <td>BADAJOZ/TALAVERA LA REAL</td>\n",
       "      <td>1940s</td>\n",
       "      <td>24348</td>\n",
       "    </tr>\n",
       "    <tr>\n",
       "      <th>1</th>\n",
       "      <td>BADAJOZ/TALAVERA LA REAL</td>\n",
       "      <td>1960s</td>\n",
       "      <td>106607</td>\n",
       "    </tr>\n",
       "    <tr>\n",
       "      <th>2</th>\n",
       "      <td>BADAJOZ/TALAVERA LA REAL</td>\n",
       "      <td>1980s</td>\n",
       "      <td>88094</td>\n",
       "    </tr>\n",
       "    <tr>\n",
       "      <th>3</th>\n",
       "      <td>BADAJOZ/TALAVERA LA REAL</td>\n",
       "      <td>2000s</td>\n",
       "      <td>85064</td>\n",
       "    </tr>\n",
       "    <tr>\n",
       "      <th>4</th>\n",
       "      <td>BADAJOZ/TALAVERA LA REAL</td>\n",
       "      <td>2020s</td>\n",
       "      <td>13748</td>\n",
       "    </tr>\n",
       "  </tbody>\n",
       "</table>\n",
       "</div>"
      ],
      "text/plain": [
       "            NOMBRE_ESTACION decada  total_lluvia\n",
       "0  BADAJOZ/TALAVERA LA REAL  1940s         24348\n",
       "1  BADAJOZ/TALAVERA LA REAL  1960s        106607\n",
       "2  BADAJOZ/TALAVERA LA REAL  1980s         88094\n",
       "3  BADAJOZ/TALAVERA LA REAL  2000s         85064\n",
       "4  BADAJOZ/TALAVERA LA REAL  2020s         13748"
      ]
     },
     "execution_count": 50,
     "metadata": {},
     "output_type": "execute_result"
    }
   ],
   "source": [
    "total_lluvia_20anos_df.head(5)\n",
    "\n"
   ]
  },
  {
   "cell_type": "code",
   "execution_count": 67,
   "id": "02d249fe",
   "metadata": {},
   "outputs": [
    {
     "data": {
      "image/png": "[encoded data removed]",
      "text/plain": [
       "<Figure size 640x480 with 1 Axes>"
      ]
     },
     "metadata": {},
     "output_type": "display_data"
    }
   ],
   "source": [
    "import matplotlib.pyplot as plt\n",
    "\n",
    "# Ordenar el DataFrame por la columna 'decada' de forma ascendente\n",
    "total_lluvia_20anos_df_sorted = total_lluvia_20anos_df.sort_values('decada')\n",
    "\n",
    "# Obtener los datos de las columnas 'decada' y 'total_lluvia' del DataFrame ordenado\n",
    "decadas = total_lluvia_20anos_df_sorted['decada']\n",
    "total_lluvia = total_lluvia_20anos_df_sorted['total_lluvia']\n",
    "\n",
    "# Graficar los datos\n",
    "plt.bar(decadas, total_lluvia)\n",
    "plt.xlabel('Década')\n",
    "plt.ylabel('Total de lluvia')\n",
    "plt.title('Total de lluvia por década')\n",
    "plt.xticks(rotation=45)  # Rotar las etiquetas del eje x para mayor legibilidad\n",
    "plt.show()\n"
   ]
  },
  {
   "cell_type": "code",
   "execution_count": 69,
   "id": "29f8f482",
   "metadata": {},
   "outputs": [
    {
     "data": {
      "image/png": "[encoded data removed]",
      "text/plain": [
       "<Figure size 1000x600 with 1 Axes>"
      ]
     },
     "metadata": {},
     "output_type": "display_data"
    }
   ],
   "source": [
    "import matplotlib.pyplot as plt\n",
    "\n",
    "# Obtener los valores de los años y la media de lluvia\n",
    "años = media_lluvia_anos_df['años']\n",
    "media_lluvia = media_lluvia_anos_df['media_lluvia']\n",
    "\n",
    "# Configurar el tamaño de la figura\n",
    "plt.figure(figsize=(10, 6))\n",
    "\n",
    "# Graficar los datos del DataFrame como un gráfico de barras\n",
    "plt.bar(años, media_lluvia)\n",
    "\n",
    "# Configurar etiquetas y título del gráfico\n",
    "plt.xlabel('Años')\n",
    "plt.ylabel('Media de lluvia')\n",
    "plt.title('Media de lluvia por años')\n",
    "\n",
    "# Mostrar el gráfico\n",
    "plt.show()\n"
   ]
  },
  {
   "cell_type": "code",
   "execution_count": 72,
   "id": "a2e6c857",
   "metadata": {
    "scrolled": true
   },
   "outputs": [
    {
     "data": {
      "text/html": [
       "<div>\n",
       "<style scoped>\n",
       "    .dataframe tbody tr th:only-of-type {\n",
       "        vertical-align: middle;\n",
       "    }\n",
       "\n",
       "    .dataframe tbody tr th {\n",
       "        vertical-align: top;\n",
       "    }\n",
       "\n",
       "    .dataframe thead th {\n",
       "        text-align: right;\n",
       "    }\n",
       "</style>\n",
       "<table border=\"1\" class=\"dataframe\">\n",
       "  <thead>\n",
       "    <tr style=\"text-align: right;\">\n",
       "      <th></th>\n",
       "      <th>año</th>\n",
       "      <th>total_agua_total</th>\n",
       "      <th>total_agua_actual</th>\n",
       "    </tr>\n",
       "  </thead>\n",
       "  <tbody>\n",
       "    <tr>\n",
       "      <th>0</th>\n",
       "      <td>1988</td>\n",
       "      <td>2216549</td>\n",
       "      <td>1319792</td>\n",
       "    </tr>\n",
       "    <tr>\n",
       "      <th>1</th>\n",
       "      <td>1989</td>\n",
       "      <td>2229254</td>\n",
       "      <td>1009475</td>\n",
       "    </tr>\n",
       "    <tr>\n",
       "      <th>2</th>\n",
       "      <td>1990</td>\n",
       "      <td>2500038</td>\n",
       "      <td>1322481</td>\n",
       "    </tr>\n",
       "    <tr>\n",
       "      <th>3</th>\n",
       "      <td>1991</td>\n",
       "      <td>2580262</td>\n",
       "      <td>1271582</td>\n",
       "    </tr>\n",
       "    <tr>\n",
       "      <th>4</th>\n",
       "      <td>1992</td>\n",
       "      <td>2539021</td>\n",
       "      <td>1064804</td>\n",
       "    </tr>\n",
       "    <tr>\n",
       "      <th>5</th>\n",
       "      <td>1993</td>\n",
       "      <td>2546168</td>\n",
       "      <td>1081188</td>\n",
       "    </tr>\n",
       "    <tr>\n",
       "      <th>6</th>\n",
       "      <td>1994</td>\n",
       "      <td>2649260</td>\n",
       "      <td>1147613</td>\n",
       "    </tr>\n",
       "    <tr>\n",
       "      <th>7</th>\n",
       "      <td>1995</td>\n",
       "      <td>2660085</td>\n",
       "      <td>924835</td>\n",
       "    </tr>\n",
       "    <tr>\n",
       "      <th>8</th>\n",
       "      <td>1996</td>\n",
       "      <td>2730255</td>\n",
       "      <td>1674724</td>\n",
       "    </tr>\n",
       "    <tr>\n",
       "      <th>9</th>\n",
       "      <td>1997</td>\n",
       "      <td>2681109</td>\n",
       "      <td>1854301</td>\n",
       "    </tr>\n",
       "    <tr>\n",
       "      <th>10</th>\n",
       "      <td>1998</td>\n",
       "      <td>2679844</td>\n",
       "      <td>1903714</td>\n",
       "    </tr>\n",
       "    <tr>\n",
       "      <th>11</th>\n",
       "      <td>1999</td>\n",
       "      <td>2747950</td>\n",
       "      <td>1500938</td>\n",
       "    </tr>\n",
       "    <tr>\n",
       "      <th>12</th>\n",
       "      <td>2000</td>\n",
       "      <td>2761953</td>\n",
       "      <td>1461570</td>\n",
       "    </tr>\n",
       "    <tr>\n",
       "      <th>13</th>\n",
       "      <td>2001</td>\n",
       "      <td>2765915</td>\n",
       "      <td>1831732</td>\n",
       "    </tr>\n",
       "    <tr>\n",
       "      <th>14</th>\n",
       "      <td>2002</td>\n",
       "      <td>2820424</td>\n",
       "      <td>1543162</td>\n",
       "    </tr>\n",
       "    <tr>\n",
       "      <th>15</th>\n",
       "      <td>2003</td>\n",
       "      <td>2767147</td>\n",
       "      <td>1881948</td>\n",
       "    </tr>\n",
       "    <tr>\n",
       "      <th>16</th>\n",
       "      <td>2004</td>\n",
       "      <td>2766296</td>\n",
       "      <td>1840833</td>\n",
       "    </tr>\n",
       "    <tr>\n",
       "      <th>17</th>\n",
       "      <td>2005</td>\n",
       "      <td>2767283</td>\n",
       "      <td>1412236</td>\n",
       "    </tr>\n",
       "    <tr>\n",
       "      <th>18</th>\n",
       "      <td>2006</td>\n",
       "      <td>2780791</td>\n",
       "      <td>1385960</td>\n",
       "    </tr>\n",
       "    <tr>\n",
       "      <th>19</th>\n",
       "      <td>2007</td>\n",
       "      <td>2815703</td>\n",
       "      <td>1535082</td>\n",
       "    </tr>\n",
       "    <tr>\n",
       "      <th>20</th>\n",
       "      <td>2008</td>\n",
       "      <td>2876748</td>\n",
       "      <td>1396470</td>\n",
       "    </tr>\n",
       "    <tr>\n",
       "      <th>21</th>\n",
       "      <td>2009</td>\n",
       "      <td>2827658</td>\n",
       "      <td>1467742</td>\n",
       "    </tr>\n",
       "    <tr>\n",
       "      <th>22</th>\n",
       "      <td>2010</td>\n",
       "      <td>2886546</td>\n",
       "      <td>2133127</td>\n",
       "    </tr>\n",
       "    <tr>\n",
       "      <th>23</th>\n",
       "      <td>2011</td>\n",
       "      <td>2890668</td>\n",
       "      <td>2094812</td>\n",
       "    </tr>\n",
       "    <tr>\n",
       "      <th>24</th>\n",
       "      <td>2012</td>\n",
       "      <td>2885160</td>\n",
       "      <td>1651542</td>\n",
       "    </tr>\n",
       "    <tr>\n",
       "      <th>25</th>\n",
       "      <td>2013</td>\n",
       "      <td>2932560</td>\n",
       "      <td>2133181</td>\n",
       "    </tr>\n",
       "    <tr>\n",
       "      <th>26</th>\n",
       "      <td>2014</td>\n",
       "      <td>2886078</td>\n",
       "      <td>2143628</td>\n",
       "    </tr>\n",
       "    <tr>\n",
       "      <th>27</th>\n",
       "      <td>2015</td>\n",
       "      <td>2910804</td>\n",
       "      <td>1948370</td>\n",
       "    </tr>\n",
       "    <tr>\n",
       "      <th>28</th>\n",
       "      <td>2016</td>\n",
       "      <td>2910820</td>\n",
       "      <td>1806698</td>\n",
       "    </tr>\n",
       "    <tr>\n",
       "      <th>29</th>\n",
       "      <td>2017</td>\n",
       "      <td>2912006</td>\n",
       "      <td>1420371</td>\n",
       "    </tr>\n",
       "    <tr>\n",
       "      <th>30</th>\n",
       "      <td>2018</td>\n",
       "      <td>2915857</td>\n",
       "      <td>1692301</td>\n",
       "    </tr>\n",
       "    <tr>\n",
       "      <th>31</th>\n",
       "      <td>2019</td>\n",
       "      <td>2970124</td>\n",
       "      <td>1549704</td>\n",
       "    </tr>\n",
       "    <tr>\n",
       "      <th>32</th>\n",
       "      <td>2020</td>\n",
       "      <td>2895945</td>\n",
       "      <td>1632838</td>\n",
       "    </tr>\n",
       "    <tr>\n",
       "      <th>33</th>\n",
       "      <td>2021</td>\n",
       "      <td>2909829</td>\n",
       "      <td>1493342</td>\n",
       "    </tr>\n",
       "    <tr>\n",
       "      <th>34</th>\n",
       "      <td>2022</td>\n",
       "      <td>2918163</td>\n",
       "      <td>1214115</td>\n",
       "    </tr>\n",
       "    <tr>\n",
       "      <th>35</th>\n",
       "      <td>2023</td>\n",
       "      <td>1065311</td>\n",
       "      <td>535271</td>\n",
       "    </tr>\n",
       "  </tbody>\n",
       "</table>\n",
       "</div>"
      ],
      "text/plain": [
       "     año  total_agua_total  total_agua_actual\n",
       "0   1988           2216549            1319792\n",
       "1   1989           2229254            1009475\n",
       "2   1990           2500038            1322481\n",
       "3   1991           2580262            1271582\n",
       "4   1992           2539021            1064804\n",
       "5   1993           2546168            1081188\n",
       "6   1994           2649260            1147613\n",
       "7   1995           2660085             924835\n",
       "8   1996           2730255            1674724\n",
       "9   1997           2681109            1854301\n",
       "10  1998           2679844            1903714\n",
       "11  1999           2747950            1500938\n",
       "12  2000           2761953            1461570\n",
       "13  2001           2765915            1831732\n",
       "14  2002           2820424            1543162\n",
       "15  2003           2767147            1881948\n",
       "16  2004           2766296            1840833\n",
       "17  2005           2767283            1412236\n",
       "18  2006           2780791            1385960\n",
       "19  2007           2815703            1535082\n",
       "20  2008           2876748            1396470\n",
       "21  2009           2827658            1467742\n",
       "22  2010           2886546            2133127\n",
       "23  2011           2890668            2094812\n",
       "24  2012           2885160            1651542\n",
       "25  2013           2932560            2133181\n",
       "26  2014           2886078            2143628\n",
       "27  2015           2910804            1948370\n",
       "28  2016           2910820            1806698\n",
       "29  2017           2912006            1420371\n",
       "30  2018           2915857            1692301\n",
       "31  2019           2970124            1549704\n",
       "32  2020           2895945            1632838\n",
       "33  2021           2909829            1493342\n",
       "34  2022           2918163            1214115\n",
       "35  2023           1065311             535271"
      ]
     },
     "execution_count": 72,
     "metadata": {},
     "output_type": "execute_result"
    }
   ],
   "source": [
    "capacidad_embalses_df\n"
   ]
  },
  {
   "cell_type": "code",
   "execution_count": 74,
   "id": "3c31c4e5",
   "metadata": {},
   "outputs": [
    {
     "data": {
      "image/png": "[encoded data removed]",
      "text/plain": [
       "<Figure size 1000x600 with 1 Axes>"
      ]
     },
     "metadata": {},
     "output_type": "display_data"
    }
   ],
   "source": [
    "import matplotlib.pyplot as plt\n",
    "\n",
    "# Obtener los valores de los años y las columnas de interés\n",
    "años = capacidad_embalses_df['año']\n",
    "total_agua_total = capacidad_embalses_df['total_agua_total']\n",
    "total_agua_actual = capacidad_embalses_df['total_agua_actual']\n",
    "\n",
    "# Configurar el tamaño de la figura\n",
    "plt.figure(figsize=(10, 6))\n",
    "\n",
    "# Graficar los datos de 'total_agua_total' como una línea\n",
    "plt.plot(años, total_agua_total, color='red', marker='o', label='Total Agua Total')\n",
    "\n",
    "# Graficar los datos de 'total_agua_actual' como un gráfico de barras\n",
    "plt.bar(años, total_agua_actual, label='Total Agua Actual')\n",
    "\n",
    "# Configurar etiquetas y título del gráfico\n",
    "plt.xlabel('Año')\n",
    "plt.ylabel('Volumen de agua')\n",
    "plt.title('Capacidad de embalses')\n",
    "\n",
    "# Mostrar la leyenda\n",
    "plt.legend()\n",
    "\n",
    "# Mostrar el gráfico\n",
    "plt.show()\n"
   ]
  }
 ],
 "metadata": {
  "kernelspec": {
   "display_name": "Python 3 (ipykernel)",
   "language": "python",
   "name": "python3"
  },
  "language_info": {
   "codemirror_mode": {
    "name": "ipython",
    "version": 3
   },
   "file_extension": ".py",
   "mimetype": "text/x-python",
   "name": "python",
   "nbconvert_exporter": "python",
   "pygments_lexer": "ipython3",
   "version": "3.11.3"
  }
 },
 "nbformat": 4,
 "nbformat_minor": 5
}
